{
 "cells": [
  {
   "cell_type": "code",
   "execution_count": 1,
   "id": "1e7ce2ee",
   "metadata": {},
   "outputs": [
    {
     "name": "stdout",
     "output_type": "stream",
     "text": [
      "Friday\n",
      "21years 5months 10days\n",
      "Difference in days:  7813 days, 18:37:37.964116\n",
      "Difference in weekends:  1116\n",
      "Difference in months:  257\n",
      "Differnce in hours:  187530.62721225445\n",
      "Differnce in minutes:  11251837.632735265\n",
      "Difference in seconds:  675110257\n"
     ]
    }
   ],
   "source": [
    "import datetime\n",
    "\n",
    "start = datetime.datetime(2002,7,26)\n",
    "end = datetime.datetime.now()\n",
    "\n",
    "#Day you born\n",
    "print(start.strftime(\"%A\"))\n",
    "\n",
    "\n",
    "#yrs,mon and days between dob to today\n",
    "years = abs(start.year - end.year)\n",
    "months = abs(start.month - end.month)\n",
    "days = abs(start.day - end.day)\n",
    "print('{0}years {1}months {2}days'.format(years,months,days))\n",
    "\n",
    "#Days difference between dob to today\n",
    "days = abs(start - end)\n",
    "print(\"Difference in days: \" ,days)\n",
    "\n",
    "#Weekends difference between dob to today\n",
    "days = abs(start - end).days \n",
    "print(\"Difference in weekends: \",days//7)\n",
    "\n",
    "#Months difference between dob to today\n",
    "months = abs((start.year - end.year)*12+(start.month - end.month))\n",
    "print('Difference in months: ' ,months)\n",
    "\n",
    "#Hours difference between dob to today\n",
    "diff = abs(start - end)\n",
    "diff_in_hrs = abs(diff.total_seconds() / 3600)\n",
    "print(\"Differnce in hours: \",diff_in_hrs)\n",
    "\n",
    "#Minutes difference between dob to today\n",
    "diff = abs(start - end)\n",
    "diff_in_min = abs(diff.total_seconds() / 60)\n",
    "print(\"Differnce in minutes: \",diff_in_min)\n",
    "\n",
    "#Seconds difference between dob to today\n",
    "def diff_sec(start,end):\n",
    "    timedelta = abs(start - end)\n",
    "    return timedelta.days*24*3600+timedelta.seconds\n",
    "print(\"Difference in seconds: \",diff_sec(start,end))"
   ]
  },
  {
   "cell_type": "code",
   "execution_count": null,
   "id": "34ec07a8",
   "metadata": {},
   "outputs": [],
   "source": []
  }
 ],
 "metadata": {
  "kernelspec": {
   "display_name": "Python 3 (ipykernel)",
   "language": "python",
   "name": "python3"
  },
  "language_info": {
   "codemirror_mode": {
    "name": "ipython",
    "version": 3
   },
   "file_extension": ".py",
   "mimetype": "text/x-python",
   "name": "python",
   "nbconvert_exporter": "python",
   "pygments_lexer": "ipython3",
   "version": "3.11.4"
  }
 },
 "nbformat": 4,
 "nbformat_minor": 5
}
